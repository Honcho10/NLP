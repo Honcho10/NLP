{
 "cells": [
  {
   "cell_type": "markdown",
   "id": "7b1ad274",
   "metadata": {},
   "source": [
    "# Akinbosoye Ebenezer"
   ]
  },
  {
   "cell_type": "code",
   "execution_count": 8,
   "id": "32f5fab9",
   "metadata": {},
   "outputs": [],
   "source": [
    "import nltk\n",
    "from nltk.util import ngrams\n",
    "from collections import Counter\n",
    "import PyPDF2"
   ]
  },
  {
   "cell_type": "code",
   "execution_count": 12,
   "id": "c37e2e8d",
   "metadata": {
    "scrolled": true
   },
   "outputs": [
    {
     "name": "stderr",
     "output_type": "stream",
     "text": [
      "[nltk_data] Downloading package punkt to\n",
      "[nltk_data]     C:\\Users\\HONCHO\\AppData\\Roaming\\nltk_data...\n",
      "[nltk_data]   Package punkt is already up-to-date!\n"
     ]
    },
    {
     "data": {
      "text/plain": [
       "True"
      ]
     },
     "execution_count": 12,
     "metadata": {},
     "output_type": "execute_result"
    }
   ],
   "source": [
    "nltk.download('punkt')"
   ]
  },
  {
   "cell_type": "code",
   "execution_count": 13,
   "id": "b9903dec",
   "metadata": {},
   "outputs": [],
   "source": [
    "pdf_path = \"C:/Users/HONCHO/Downloads/traffic/adventure of sherlock.pdf\"\n",
    "with open(pdf_path, \"rb\") as file:\n",
    "    reader = PyPDF2.PdfReader(file)\n",
    "    text = \"\\n\".join([page.extract_text() for page in reader.pages if page.extract_text()])\n"
   ]
  },
  {
   "cell_type": "code",
   "execution_count": 14,
   "id": "046e53aa",
   "metadata": {},
   "outputs": [],
   "source": [
    "# Preprocess text\n",
    "words = nltk.word_tokenize(text.lower())  # Tokenization\n"
   ]
  },
  {
   "cell_type": "code",
   "execution_count": 15,
   "id": "50645b3e",
   "metadata": {},
   "outputs": [],
   "source": [
    "# Define target phrase\n",
    "phrase = [\"i\", \"have\", \"no\", \"doubt\", \"that\", \"i\"]\n",
    "phrase_str = \" \".join(phrase)"
   ]
  },
  {
   "cell_type": "code",
   "execution_count": 16,
   "id": "9b70fac2",
   "metadata": {},
   "outputs": [],
   "source": [
    "# Count unigrams\n",
    "unigram_counts = Counter(words)\n"
   ]
  },
  {
   "cell_type": "code",
   "execution_count": 17,
   "id": "2917c1de",
   "metadata": {},
   "outputs": [],
   "source": [
    "# Count N-grams\n",
    "n_gram_counts = {}\n",
    "for n in range(1, len(phrase) + 1):\n",
    "    n_grams = list(ngrams(words, n))\n",
    "    n_gram_counts[n] = Counter(n_grams)"
   ]
  },
  {
   "cell_type": "code",
   "execution_count": 18,
   "id": "7fad6cf7",
   "metadata": {},
   "outputs": [],
   "source": [
    "# Compute probabilities\n",
    "total_words = sum(unigram_counts.values())\n",
    "unigram_probs = {word: unigram_counts[word] / total_words for word in phrase}"
   ]
  },
  {
   "cell_type": "code",
   "execution_count": 19,
   "id": "f92a6760",
   "metadata": {},
   "outputs": [],
   "source": [
    "# Compute conditional probabilities for N-grams\n",
    "n_gram_probs = {}\n",
    "for n in range(2, len(phrase) + 1):\n",
    "    n_gram_probs[n] = {\n",
    "        n_gram: n_gram_counts[n][n_gram] / n_gram_counts[n-1][n_gram[:-1]]\n",
    "        for n_gram in n_gram_counts[n] if n_gram[:-1] in n_gram_counts[n-1]\n",
    "    }"
   ]
  },
  {
   "cell_type": "code",
   "execution_count": 20,
   "id": "27b3d336",
   "metadata": {},
   "outputs": [],
   "source": [
    "# Get counts of the target phrase and its components\n",
    "phrase_count = text.lower().count(phrase_str)\n",
    "partial_counts = { \" \".join(phrase[:n]): text.lower().count(\" \".join(phrase[:n])) for n in range(1, len(phrase) + 1) }"
   ]
  },
  {
   "cell_type": "code",
   "execution_count": 21,
   "id": "d1dd2b61",
   "metadata": {},
   "outputs": [],
   "source": [
    "# Compute probabilities\n",
    "probabilities = {key: count / total_words for key, count in partial_counts.items()}\n",
    "\n",
    "# Prepare results\n",
    "results = [(key, partial_counts[key], probabilities[key]) for key in partial_counts]\n"
   ]
  },
  {
   "cell_type": "code",
   "execution_count": 22,
   "id": "ed8fbc9d",
   "metadata": {},
   "outputs": [
    {
     "name": "stdout",
     "output_type": "stream",
     "text": [
      "N-gram: i | Count: 29578 | Probability: 0.232544\n",
      "N-gram: i have | Count: 287 | Probability: 0.002256\n",
      "N-gram: i have no | Count: 40 | Probability: 0.000314\n",
      "N-gram: i have no doubt | Count: 15 | Probability: 0.000118\n",
      "N-gram: i have no doubt that | Count: 11 | Probability: 0.000086\n",
      "N-gram: i have no doubt that i | Count: 4 | Probability: 0.000031\n"
     ]
    }
   ],
   "source": [
    "# Display results\n",
    "for row in results:\n",
    "    print(f\"N-gram: {row[0]} | Count: {row[1]} | Probability: {row[2]:.6f}\")"
   ]
  },
  {
   "cell_type": "code",
   "execution_count": null,
   "id": "fd794a89",
   "metadata": {},
   "outputs": [],
   "source": []
  }
 ],
 "metadata": {
  "kernelspec": {
   "display_name": "Python 3 (ipykernel)",
   "language": "python",
   "name": "python3"
  },
  "language_info": {
   "codemirror_mode": {
    "name": "ipython",
    "version": 3
   },
   "file_extension": ".py",
   "mimetype": "text/x-python",
   "name": "python",
   "nbconvert_exporter": "python",
   "pygments_lexer": "ipython3",
   "version": "3.10.9"
  }
 },
 "nbformat": 4,
 "nbformat_minor": 5
}
