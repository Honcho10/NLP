{
 "cells": [
  {
   "cell_type": "code",
   "execution_count": 67,
   "id": "e7f73e47",
   "metadata": {},
   "outputs": [],
   "source": [
    "import nltk\n",
    "from nltk.book import*\n",
    "from nltk.util import ngrams\n",
    "from nltk import bigrams\n",
    "from collections import Counter\n",
    "import PyPDF2\n",
    "import numpy as np"
   ]
  },
  {
   "cell_type": "code",
   "execution_count": 68,
   "id": "ddcc32b8",
   "metadata": {},
   "outputs": [
    {
     "name": "stdout",
     "output_type": "stream",
     "text": [
      "104527\n",
      "125744\n"
     ]
    }
   ],
   "source": [
    "with open('holmesad.txt', encoding='utf-8') as f_lit:\n",
    "    holmes_doc = f_lit.read()\n",
    "    holmes = holmes_doc.split()\n",
    "    print(len(holmes))\n",
    "    holmes_tokens = nltk.word_tokenize(holmes_doc)\n",
    "    print(len(holmes_tokens))"
   ]
  },
  {
   "cell_type": "code",
   "execution_count": 69,
   "id": "e640a9bc",
   "metadata": {},
   "outputs": [],
   "source": [
    "holmes_text = nltk.Text(holmes_tokens)"
   ]
  },
  {
   "cell_type": "code",
   "execution_count": 70,
   "id": "a6e0a4f6",
   "metadata": {},
   "outputs": [],
   "source": [
    "fdist = FreqDist(holmes_text)"
   ]
  },
  {
   "cell_type": "code",
   "execution_count": 71,
   "id": "eb13c7a7",
   "metadata": {},
   "outputs": [
    {
     "name": "stdout",
     "output_type": "stream",
     "text": [
      "[3031, 903, 299, 64, 1649, 3031]\n"
     ]
    }
   ],
   "source": [
    "i = fdist['I']\n",
    "h = fdist['have']\n",
    "n = fdist['no']\n",
    "d = fdist['doubt']\n",
    "th = fdist['that']\n",
    "i = fdist['I']\n",
    "word = [i,h,n,d,th,i]\n",
    "print (word)"
   ]
  },
  {
   "cell_type": "code",
   "execution_count": 76,
   "id": "4bb44a17",
   "metadata": {},
   "outputs": [
    {
     "name": "stdout",
     "output_type": "stream",
     "text": [
      "301\n",
      "35\n",
      "48\n",
      "22\n",
      "249\n"
     ]
    }
   ],
   "source": [
    "bi_grams = list(bigrams(holmes_tokens))\n",
    "freq_dist = FreqDist(bi_grams)\n",
    "\n",
    "i_count = freq_dist[('I')]\n",
    "i_have_count = freq_dist[('I', 'have')]\n",
    "have_no_count = freq_dist[('have', 'no')]\n",
    "no_doubt_count = freq_dist[('no', 'doubt')]\n",
    "doubt_that_count = freq_dist[('doubt', 'that')]\n",
    "that_i_count = freq_dist[('that', 'I')]\n",
    "\n",
    "print(i_have_count)\n",
    "print(have_no_count)\n",
    "print(no_doubt_count)\n",
    "print(doubt_that_count)\n",
    "print(that_i_count)"
   ]
  },
  {
   "cell_type": "markdown",
   "id": "1413c484",
   "metadata": {},
   "source": [
    "To find the probability"
   ]
  },
  {
   "cell_type": "code",
   "execution_count": 79,
   "id": "d9f7148a",
   "metadata": {},
   "outputs": [
    {
     "name": "stdout",
     "output_type": "stream",
     "text": [
      "0.09930715935334873\n"
     ]
    }
   ],
   "source": [
    "prob_i_have = i_have_count/i\n",
    "print(prob_i_have)"
   ]
  },
  {
   "cell_type": "code",
   "execution_count": 80,
   "id": "5c886f87",
   "metadata": {},
   "outputs": [
    {
     "name": "stdout",
     "output_type": "stream",
     "text": [
      "0.03875968992248062\n"
     ]
    }
   ],
   "source": [
    "prob_have_no = have_no_count/h\n",
    "print(prob_have_no)"
   ]
  },
  {
   "cell_type": "code",
   "execution_count": 81,
   "id": "bcee271b",
   "metadata": {},
   "outputs": [
    {
     "name": "stdout",
     "output_type": "stream",
     "text": [
      "0.1605351170568562\n"
     ]
    }
   ],
   "source": [
    "prob_no_doubt = no_doubt_count/n\n",
    "print(prob_no_doubt)"
   ]
  },
  {
   "cell_type": "code",
   "execution_count": 82,
   "id": "f8c83819",
   "metadata": {},
   "outputs": [
    {
     "name": "stdout",
     "output_type": "stream",
     "text": [
      "0.34375\n"
     ]
    }
   ],
   "source": [
    "prob_doubt_that = doubt_that_count/d\n",
    "print(prob_doubt_that)"
   ]
  },
  {
   "cell_type": "code",
   "execution_count": 83,
   "id": "ea07ecb3",
   "metadata": {},
   "outputs": [
    {
     "name": "stdout",
     "output_type": "stream",
     "text": [
      "0.15100060642813826\n"
     ]
    }
   ],
   "source": [
    "prob_that_i = that_i_count/th\n",
    "print(prob_that_i)"
   ]
  },
  {
   "cell_type": "code",
   "execution_count": 84,
   "id": "e96f7829",
   "metadata": {},
   "outputs": [
    {
     "name": "stdout",
     "output_type": "stream",
     "text": [
      "3.207393912559805e-05\n"
     ]
    }
   ],
   "source": [
    "probability_all = prob_i_have*prob_have_no*prob_no_doubt*prob_doubt_that*prob_that_i\n",
    "print(probability_all)"
   ]
  },
  {
   "cell_type": "code",
   "execution_count": null,
   "id": "c07121cd",
   "metadata": {},
   "outputs": [],
   "source": []
  }
 ],
 "metadata": {
  "kernelspec": {
   "display_name": "Python 3 (ipykernel)",
   "language": "python",
   "name": "python3"
  },
  "language_info": {
   "codemirror_mode": {
    "name": "ipython",
    "version": 3
   },
   "file_extension": ".py",
   "mimetype": "text/x-python",
   "name": "python",
   "nbconvert_exporter": "python",
   "pygments_lexer": "ipython3",
   "version": "3.10.9"
  }
 },
 "nbformat": 4,
 "nbformat_minor": 5
}
